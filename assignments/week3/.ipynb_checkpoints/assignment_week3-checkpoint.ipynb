{
 "cells": [
  {
   "cell_type": "markdown",
   "id": "140cd1fa-9a85-4f61-b2f9-49a174882b17",
   "metadata": {},
   "source": [
    "# Week3 Assignments\n",
    "Week3 assignments consist of two parts (1. Knowledge check; 2. Coding exercise). At the end of part 2 there is one challenge question. \n",
    "\n",
    "## How to Make Your Answers \n",
    "- You must carefully read cells containing \"# QUESTION IN THIS CELL #\". In those cells, you must complete certain variables and methods following the instruction. \n",
    "- If you have any question or found bugs, please post it on the Q&A board of KLMS or send me an email (takyeonlee@kaist.ac.kr).  "
   ]
  },
  {
   "cell_type": "markdown",
   "id": "db2dd680-2ae2-4322-b08d-c15df25a9c90",
   "metadata": {},
   "source": [
    "# Part 1. Knowledge Check\n",
    "- Before answering these questions, make sure you watched the week 3 lecture video.\n",
    "- Carefully read questions in comments, and put your answers in `answer_N` variables (where N=0,1,2,...)."
   ]
  },
  {
   "cell_type": "code",
   "execution_count": null,
   "id": "373d64d2-311d-441b-865a-c8d2bc907886",
   "metadata": {},
   "outputs": [],
   "source": [
    "# QUESTION IN THIS CELL #\n",
    "''' Question 1. Which of the following statements is NOT true?   \n",
    "  1. Three measures of central tendency are Mean, Median, and Mode.  \n",
    "  2. Descriptive statistics estimate characteristics of the population from a \n",
    "     random-sampled dataset.  \n",
    "  3. Standard deviation is equal or smaller than variance for the same dataset.  \n",
    "  4. Descritive statistics are useful for finding data quality issues.   \n",
    "'''\n",
    "answer_1 = None # Remove \"None\" and put your answer 1,2,3, or 4"
   ]
  },
  {
   "cell_type": "code",
   "execution_count": null,
   "id": "9372567a-fe0a-4590-a5e1-5e08bd2fec67",
   "metadata": {},
   "outputs": [],
   "source": [
    "# QUESTION IN THIS CELL #\n",
    "''' Question 2. We have a dataset whose values are either \"SUNNY\", \"WINDY\",\n",
    "    \"CLOUDY\", or \"RAINY\". Which measure of the central tendency \n",
    "    is applicable? \n",
    "'''\n",
    "answer_2 = None # Remove \"None\" and put your answer as string e.g. \"_YOUR_ANSWER_\""
   ]
  },
  {
   "cell_type": "code",
   "execution_count": null,
   "id": "f77b4840-3943-4a8e-904e-7b795c573d84",
   "metadata": {},
   "outputs": [],
   "source": [
    "# QUESTION IN THIS CELL #\n",
    "''' Question 3. What type of distribution is suitable for time until the next market collapse? \n",
    "'''\n",
    "answer_3 = None # Remove \"None\" and put your answer as string e.g. \"_YOUR_ANSWER_\""
   ]
  },
  {
   "cell_type": "code",
   "execution_count": null,
   "id": "26929dec-6c09-499f-b272-c11d74f0e919",
   "metadata": {},
   "outputs": [],
   "source": [
    "# QUESTION IN THIS CELL #\n",
    "''' Question 4. Which distribution is suitable for single-dice rolls? \n",
    "'''\n",
    "answer_4 = None # Remove \"None\" and put your answer as string e.g. \"_YOUR_ANSWER_\""
   ]
  },
  {
   "cell_type": "code",
   "execution_count": null,
   "id": "4d8d89bb-b213-4a6d-add1-a794c18bffa8",
   "metadata": {},
   "outputs": [],
   "source": [
    "# QUESTION IN THIS CELL #\n",
    "''' Question 5. Which of the following statements is NOT true for normal distribution?\n",
    "  1. Mean, Median, and Mode of a normal distribution are all same\n",
    "  2. Normal distribution is fit to a lot of natural phenomena including \n",
    "      'duration of long-distance call'\n",
    "  3. Let's say there a game of rolling a dice 10 times and getting the sum. Scores of the \n",
    "      game will eventually become a normal distribution. \n",
    "  4. Binomial and normal distributions are similar except that the former is \n",
    "      applicable to discrete values\n",
    "'''\n",
    "answer_5 = None # Remove \"None\" and put your answer as string e.g. \"_YOUR_ANSWER_\""
   ]
  },
  {
   "cell_type": "code",
   "execution_count": null,
   "id": "53506de8-3b42-47f0-9701-e3d9d08065d3",
   "metadata": {},
   "outputs": [],
   "source": [
    "# QUESTION IN THIS CELL #\n",
    "''' Question 6. Which of the following statement about levels of measurement\n",
    "    is NOT true? \n",
    "  1. Any dataset other than nominal are sortable\n",
    "  2. Via binning, we can apply mode on ratio and interval values\n",
    "  3. Via counting, we can create ratio measures from nominal values\n",
    "  4. A dataset of integers (e.g. 5,2,1) is either ratio or interval since \n",
    "     they are all quantitative\n",
    "'''\n",
    "answer_6 = None # Remove \"None\" and put your answer 1,2,3, or 4"
   ]
  },
  {
   "cell_type": "markdown",
   "id": "4f14a019-2356-437e-b3ae-a6e1af0486bb",
   "metadata": {},
   "source": [
    "# Part 2. Coding Exercise\n",
    "- You must carefully read cells containing \"# QUESTION IN THIS CELL #\". In those cells, you must complete certain methods. \n",
    "- Other cells are provided to give you instructions or help testing your code. \n",
    "- In this assignment, you can import a limited set of libraries:\n",
    "  - `re`, `csv`, `json`, `pprint` are allowed  \n",
    "  - Libraries for statistical analysis (e.g. `numpy` or `sklearn`) are **NOT** allowed.\n",
    "- Cells often rely on outcomes of the prior cells. Make sure you have executed *code* cells prior to the one that you are working on. For instance, the below cell must be executed to import libraries before using them. "
   ]
  },
  {
   "cell_type": "code",
   "execution_count": null,
   "id": "23770a1f-3db4-4490-bacc-49a01610ec3a",
   "metadata": {},
   "outputs": [],
   "source": [
    "import re, csv, json, pprint   # You cannot import libraries other than these"
   ]
  },
  {
   "cell_type": "markdown",
   "id": "2ca9dec5-1916-4a18-a19a-5761885f74ea",
   "metadata": {},
   "source": [
    "## Dataset (Weblog.csv) \n",
    "- Make sure you downloaded \"weblog.csv\" (attached in Assignment 3 at KLMS), saved it in the same folder with this Notebook. "
   ]
  },
  {
   "cell_type": "markdown",
   "id": "30ddda47-beab-471d-926e-ca6481432c1e",
   "metadata": {},
   "source": [
    "### Question 7. Load the dataset\n",
    "- Your task is to load the csv file, and clean column titles and records"
   ]
  },
  {
   "cell_type": "code",
   "execution_count": null,
   "id": "cc2b999d-c701-498b-bfa8-f8251dd51711",
   "metadata": {},
   "outputs": [],
   "source": [
    "# QUESTION IN THIS CELL #\n",
    "'''\n",
    "    This method accepts one parameter\n",
    "        fileName: name of CSV file in the current folder (in this task we load 'weblog.csv') \n",
    "    It returns cleaned column titles and records \n",
    "    [Notice] To return two values (e.g. A and B), use \"return A, B\"\n",
    "'''\n",
    "def loadData(fileName):\n",
    "    # COMPLETE THIS METHOD\n",
    "    pass"
   ]
  },
  {
   "cell_type": "code",
   "execution_count": null,
   "id": "7154a2c0-375f-4402-96f5-bbfb027a9c62",
   "metadata": {
    "tags": []
   },
   "outputs": [],
   "source": [
    "# This cell is given to help you test the above method. \n",
    "columnTitle, records = loadData(\"weblog.csv\")\n",
    "print(columnTitle) \n",
    "print (records[0]) \n",
    "# An output of this cell must look like...\n",
    "#['IP', 'Time', 'URL', 'Staus']\n",
    "#['10.128.2.1', '[29/Nov/2017:06:58:55', 'GET /login.php HTTP/1.1', '200']"
   ]
  },
  {
   "cell_type": "markdown",
   "id": "88091d50-ab8c-463f-b2dc-166274812168",
   "metadata": {},
   "source": [
    "### Question 8. Getting Unique Values\n",
    "- While the first few rows look fine, we must double check if there's any incomplete rows hidden below. We will test it by checking the list of unique (distinct) values for each column. "
   ]
  },
  {
   "cell_type": "code",
   "execution_count": null,
   "id": "c0b942fb-442f-4342-bfec-7fce5f1c4beb",
   "metadata": {},
   "outputs": [],
   "source": [
    "# QUESTION IN THIS CELL #\n",
    "''' This method accepts two parameters: \n",
    "        ct: A list of column titles\n",
    "        rs: A list of records\n",
    "    It must return a dictionary whose keys are column titles, \n",
    "      and values are lists of unique values of corresponding columns.\n",
    "'''\n",
    "def uniqueValuesPerColumn(ct, rs):\n",
    "    # COMPLETE THIS METHOD #\n",
    "    pass"
   ]
  },
  {
   "cell_type": "code",
   "execution_count": null,
   "id": "b4a53854-4c9b-4b0b-b938-2979031d9968",
   "metadata": {
    "tags": []
   },
   "outputs": [],
   "source": [
    "'''    \n",
    "E.g. If your method was correctly implemented, the following line of code must print out \n",
    "     {'IP':['10.128.2.1', '10.131.2.2'],...], 'Time': ['[29/Nov/2017:06:58:55', '[29/Nov/2017:06:59:02',...], ...}\n",
    "        where \"...\" indictes truncated items within list or dictionary\n",
    "'''\n",
    "print(uniqueValuesPerColumn(columnTitle, records))\n",
    "# When the cell's output is too long, you can fold/unfold it by clicking the bar on the left side."
   ]
  },
  {
   "cell_type": "markdown",
   "id": "36acc07a-31fa-4fc6-b3f6-303b0bae217d",
   "metadata": {},
   "source": [
    "### Question 9. Transforming Nested-List to Column Dictionary\n",
    "Most descriptive statistics techniques are done on individual columns. To make descriptive statistics easy, let's create a dictionary of columns from the records (i.e. nested-list)."
   ]
  },
  {
   "cell_type": "code",
   "execution_count": null,
   "id": "26a1494c-7ff3-427e-b5e5-194d58aa3721",
   "metadata": {},
   "outputs": [],
   "source": [
    "# QUESTION IN THIS CELL #\n",
    "''' This method accepts two parameters: \n",
    "        ct: A list of column titles\n",
    "        rs: A list of records\n",
    "    It must return a dictionary whose keys are column titles, \n",
    "      and values are lists of values of corresponding columns\n",
    "'''\n",
    "def makeColumnDictionary(ct, rs):\n",
    "    # COMPLETE THIS METHOD #\n",
    "    pass"
   ]
  },
  {
   "cell_type": "code",
   "execution_count": null,
   "id": "2390e605-3178-4c75-858d-2070b546782b",
   "metadata": {},
   "outputs": [],
   "source": [
    "# This cell is given to help you test the above method. \n",
    "print (makeColumnDictionary(columnTitle, records)[\"IP\"][:3])\n",
    "print (makeColumnDictionary(columnTitle, records)[\"Time\"][:3])\n",
    "print (makeColumnDictionary(columnTitle, records)[\"URL\"][:3])\n",
    "print (makeColumnDictionary(columnTitle, records)[\"Status\"][:3])\n",
    "\n",
    "# Output of this cell must like\n",
    "# ['10.128.2.1', '10.128.2.1', '10.128.2.1']\n",
    "# ['[29/Nov/2017:06:58:55', '[29/Nov/2017:06:59:02', '[29/Nov/2017:06:59:03']\n",
    "# ['GET /login.php HTTP/1.1', 'POST /process.php HTTP/1.1', 'GET /home.php HTTP/1.1']\n",
    "# ['200', '302', '200']"
   ]
  },
  {
   "cell_type": "markdown",
   "id": "53fc7d75-2a6c-4709-8140-e275bf72bd61",
   "metadata": {},
   "source": [
    "### Question 10. Descriptive Statistics (URL request type)\n",
    "- The URL column values contain multiple words (E.g. \"GET /login.php HTTP/1.1\"). The first word is \"GET\", \"POST\", or other similar values that indicate types of http request.\n",
    "- Your task is to get descriptive statistics of the request types. "
   ]
  },
  {
   "cell_type": "code",
   "execution_count": null,
   "id": "08fcd198-91ac-4219-9463-18aca376baff",
   "metadata": {},
   "outputs": [],
   "source": [
    "# QUESTION IN THIS CELL #\n",
    "''' This method accepts one parameter: \n",
    "        urls: a list of URL values (e.g. GET /login.php HTTP/1.1)\n",
    "    This method must return a dictionary whose keys are numValues, numUniqueValues, and freqPerValue. In detail, \n",
    "        'numValues' must contain how many values are in the column\n",
    "        'numUniqueValues' must contain how many unique values are in the column\n",
    "        'freqPerValue' must be a dictionary whose keys are unique values (e.g. \"GET\", \"POST\", ...),\n",
    "            and values are frequencies of corresponding keys. \n",
    "    (See the below cell for a more concrete example)\n",
    "'''\n",
    "def analyzeRequestType(urls):\n",
    "    # COMPLETE THIS METHOD #\n",
    "    pass"
   ]
  },
  {
   "cell_type": "code",
   "execution_count": null,
   "id": "ed578954-8219-4c34-a62b-fabc80de7997",
   "metadata": {},
   "outputs": [],
   "source": [
    "# This cell is given to help you test the above method. \n",
    "print (analyzeRequestType(makeColumnDictionary(columnTitle, records)[\"URL\"]))\n",
    "\n",
    "# Output of this cell must like\n",
    "# {'numValues': 15789,\n",
    "#  'numUniqueValues': 3,\n",
    "#  'freqPerValue': {'GET': 15098, 'POST': 682, 'HEAD': 9}}"
   ]
  },
  {
   "cell_type": "markdown",
   "id": "ff5130ce-cfbe-42c1-88af-34599f6c0a51",
   "metadata": {
    "tags": []
   },
   "source": [
    "### Question 11. Descriptive Statistics (Status)\n",
    "- The **Status** column contains three-digit numbers that represent **HTTP response status code** (https://developer.mozilla.org/en-US/docs/Web/HTTP/Status). The following list briefly explains what each code means. \n",
    "  - 200: The request was done successfully without any problem.\n",
    "  - 302: The request has been redirected to another URL. \n",
    "  - 304: The requested information has been previously cached. There's no need to retrieve the same information again.\n",
    "  - 206: The request has succeeded for a part of the requested data. Similar with 200.\n",
    "  - **404: The requested URL was not found. This is a typical failure case.**\n",
    "- Your task is to find \n",
    "  - **How frequently `404 Page Not Found` occurred**\n",
    "  - **Which URL was missing**"
   ]
  },
  {
   "cell_type": "code",
   "execution_count": null,
   "id": "025e6e9d-7c1a-43dc-abb1-d1f3fd822cc2",
   "metadata": {},
   "outputs": [],
   "source": [
    "# QUESTION IN THIS CELL #\n",
    "''' This method accepts two parameters: \n",
    "        ct: A list of column titles\n",
    "        rs: A list of records\n",
    "    This method must return a dictionary of key-value pairs as listed below:\n",
    "        'numFailedRequests' must contain an integer of *how many records are about \n",
    "            failed requests* (i.e. 404 for their Status) \n",
    "        'ratioFailedRequests' must contain a floating number (between 0.0 and 1.0) \n",
    "            indicating *the ratio of failed requests among the entire records*. \n",
    "            E.g. If the ratio would be 0.25 if one out of four records are about failed requests. \n",
    "        'failedURLs' must be a dictionary whose keys are URLs (e.g. `/login.php`), \n",
    "            and values are frequencies of failed requests for corresponding URLs.\n",
    "'''\n",
    "def analyzeStatus(ct, rs):\n",
    "    # COMPLETE THIS METHOD #\n",
    "    pass"
   ]
  },
  {
   "cell_type": "code",
   "execution_count": null,
   "id": "0d38c677-8f89-4a22-9e73-58866e774efa",
   "metadata": {},
   "outputs": [],
   "source": [
    "# This code helps you test your code \n",
    "report = analyzeStatus(columnTitle, records)\n",
    "print (report)"
   ]
  },
  {
   "cell_type": "markdown",
   "id": "47754c5f-1be5-44f1-8722-ef7e012ab0d0",
   "metadata": {
    "tags": []
   },
   "source": [
    "### Challenge Question 1. Extracting information from structured values\n",
    "- The **Time** column contains date, month, year, hour, minute, and second in `[{Date}/{Month}/{Year}:{Hour}:{Minute}:{second}` format. \n",
    "- Your task is to extract date, month, year, and hour information from the Time column.\n",
    "- **Hint.** Use `strip()` method to remove unnecessary characters (e.g. '[') at front and end of a text value\n",
    "- **Hint.** Use `split(\":\")` method to split text with \":\" character. \n",
    "- **Hint.** The given time values use two separators (: and /). That means you might need to use `split` twice"
   ]
  },
  {
   "cell_type": "code",
   "execution_count": null,
   "id": "84985d78-d232-4355-b249-1b1fc36e3588",
   "metadata": {},
   "outputs": [],
   "source": [
    "# QUESTION IN THIS CELL #\n",
    "''' This method accepts two parameters: \n",
    "        ct: A list of column titles\n",
    "        rs: A list of records\n",
    "    It must return a new column titles a new records that contain six additional columns\n",
    "        ('Date','Month','Year','Hour','Minute','Second')\n",
    "    * DO NOT MODIFY ct and rs (i.e. the original column titles, and records)\n",
    "'''\n",
    "def decomposeDataTime(ct, rs):\n",
    "    # COMPLETE THIS METHOD #\n",
    "    pass"
   ]
  },
  {
   "cell_type": "code",
   "execution_count": null,
   "id": "0659844a-ae18-4941-a638-1d44f6b76638",
   "metadata": {
    "tags": []
   },
   "outputs": [],
   "source": [
    "# This cell is for testing your method\n",
    "columnTitle_extended, records_extended = decomposeDataTime(columnTitle, records)\n",
    "print (columnTitle_extended)\n",
    "print (records_extended[0])\n",
    "\n",
    "# Output of this cell must be like \n",
    "# ['IP', 'Time', 'URL', 'Status', 'Date', 'Month', 'Year', 'Hour', 'Minute', 'Second']\n",
    "# ['10.128.2.1', '[29/Nov/2017:06:58:55', 'GET /login.php HTTP/1.1', '200', '29', 'Nov', '2017', '06', '58', '55']"
   ]
  },
  {
   "cell_type": "markdown",
   "id": "d50ffd61-2b67-455f-8e3a-2a5fc6dafe4d",
   "metadata": {},
   "source": [
    "# Well done! This is the end of the Assignment 3. \n",
    "- Make sure you have completed all the methods in the cells containing \"# COMPLETE THIS CELL #\".\n",
    "- Save this Notebook file and submit via KLMS"
   ]
  }
 ],
 "metadata": {
  "kernelspec": {
   "display_name": "Python 3",
   "language": "python",
   "name": "python3"
  },
  "language_info": {
   "codemirror_mode": {
    "name": "ipython",
    "version": 3
   },
   "file_extension": ".py",
   "mimetype": "text/x-python",
   "name": "python",
   "nbconvert_exporter": "python",
   "pygments_lexer": "ipython3",
   "version": "3.9.5"
  }
 },
 "nbformat": 4,
 "nbformat_minor": 5
}
