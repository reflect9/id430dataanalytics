{
 "cells": [
  {
   "cell_type": "markdown",
   "id": "71f4757b-2621-4bf6-9869-64fd2669ba65",
   "metadata": {
    "tags": []
   },
   "source": [
    "# Week3 Tutorial \n",
    "- How to use Jupyter Lab (Python Notebook) \n",
    "- Descriptive Statistics on freshman_kgs.csv (https://people.sc.fsu.edu/~jburkardt/data/csv/csv.html) \n",
    "    - Sex, September weight (kgs), April weight (kgs), September BMI, April BMI, for 67 college freshmen. There is also an initial header line."
   ]
  },
  {
   "cell_type": "markdown",
   "id": "84ca4cc7-c3b2-434b-b7d2-174fcdd71b6a",
   "metadata": {},
   "source": [
    "## Reading the CSV file "
   ]
  },
  {
   "cell_type": "code",
   "execution_count": 168,
   "id": "877030e8-b5bf-414e-b99e-9fc587091bb1",
   "metadata": {},
   "outputs": [],
   "source": [
    "import csv\n",
    "# Basic method. We can shorten the above commands\n",
    "csvFile = open(\"freshman_kgs.csv\",\"r\")\n",
    "csvReader = csv.reader(csvFile)\n",
    "header = next(csvReader)\n",
    "records = []\n",
    "for record in csvReader:\n",
    "    records.append(record)\n",
    "    \n",
    "# Advanced method. We can shorten the above commands\n",
    "# csvReader = csv.reader(open(\"freshman_kgs.csv\",\"r\"))   # Create a csv reader with a file object (just created)\n",
    "# header = next(csvReader)   #  Getting the first line (and the cursor moves to the second line)\n",
    "# records = [record for record in csvReader]  # records is a list that simply contains every record in csvReader as-is"
   ]
  },
  {
   "cell_type": "markdown",
   "id": "2aee799b-62ea-466e-b2c2-44ee248de3bc",
   "metadata": {},
   "source": [
    "## Check data types and basic cleaning needed  "
   ]
  },
  {
   "cell_type": "code",
   "execution_count": 169,
   "id": "c46f7bb9-610e-45a7-9fa8-6c00bf0a575b",
   "metadata": {},
   "outputs": [
    {
     "name": "stdout",
     "output_type": "stream",
     "text": [
      "['Sex', ' \"Weight (Sep)\"', ' \"Weight (Apr)\"', ' \"BMI (Sep)\"', ' \"BMI (Apr)\"']\n"
     ]
    }
   ],
   "source": [
    "print(header)  # Header need to be stripped"
   ]
  },
  {
   "cell_type": "code",
   "execution_count": 170,
   "id": "f94fb126-75fd-40cf-bbc2-c8040f91d46b",
   "metadata": {},
   "outputs": [
    {
     "name": "stdout",
     "output_type": "stream",
     "text": [
      "[['M', ' 72', ' 59', ' 22.02', ' 18.14'], ['M', ' 97', ' 86', ' 19.70', ' 17.44'], ['M', ' 74', ' 69', ' 24.09', ' 22.43'], ['M', ' 93', ' 88', ' 26.97', ' 25.57'], ['F', ' 68', ' 64', ' 21.51', ' 20.10'], ['M', ' 59', ' 55', ' 18.69', ' 17.40'], ['F', ' 64', ' 60', ' 24.24', ' 22.88'], ['F', ' 56', ' 53', ' 21.23', ' 20.23'], ['F', ' 70', ' 68', ' 30.26', ' 29.24'], ['F', ' 58', ' 56', ' 21.88', ' 21.02'], ['F', ' 50', ' 47', ' 17.63', ' 16.89'], ['M', ' 71', ' 69', ' 24.57', ' 23.85'], ['M', ' 67', ' 66', ' 20.68', ' 20.15'], ['F', ' 56', ' 55', ' 20.97', ' 20.36'], ['F', ' 70', ' 68', ' 27.30', ' 26.73'], ['F', ' 61', ' 60', ' 23.30', ' 22.88'], ['F', ' 53', ' 52', ' 19.48', ' 19.24'], ['M', ' 92', ' 92', ' 24.74', ' 24.69'], ['F', ' 57', ' 58', ' 20.69', ' 20.79'], ['M', ' 67', ' 67', ' 20.49', ' 20.60'], ['F', ' 58', ' 58', ' 21.09', ' 21.24'], ['F', ' 49', ' 50', ' 18.37', ' 18.53'], ['M', ' 68', ' 68', ' 22.40', ' 22.61'], ['F', ' 69', ' 69', ' 28.17', ' 28.43'], ['M', ' 87', ' 88', ' 23.60', ' 23.81'], ['M', ' 81', ' 82', ' 26.52', ' 26.78'], ['M', ' 60', ' 61', ' 18.89', ' 19.27'], ['F', ' 52', ' 53', ' 19.31', ' 19.75'], ['M', ' 70', ' 71', ' 20.96', ' 21.32'], ['F', ' 63', ' 64', ' 21.78', ' 22.22'], ['F', ' 56', ' 57', ' 19.78', ' 20.23'], ['M', ' 68', ' 69', ' 22.40', ' 22.82'], ['M', ' 68', ' 69', ' 22.76', ' 23.19'], ['F', ' 54', ' 56', ' 20.15', ' 20.69'], ['M', ' 80', ' 82', ' 22.14', ' 22.57'], ['M', ' 64', ' 66', ' 20.27', ' 20.76'], ['F', ' 57', ' 59', ' 22.15', ' 22.93'], ['F', ' 63', ' 65', ' 23.87', ' 24.67'], ['F', ' 54', ' 56', ' 18.61', ' 19.34'], ['F', ' 56', ' 58', ' 21.73', ' 22.58'], ['M', ' 54', ' 56', ' 18.93', ' 19.72'], ['M', ' 73', ' 75', ' 25.88', ' 26.72'], ['M', ' 77', ' 79', ' 28.59', ' 29.53'], ['F', ' 63', ' 66', ' 21.89', ' 22.79'], ['F', ' 51', ' 54', ' 18.31', ' 19.28'], ['F', ' 59', ' 62', ' 19.64', ' 20.63'], ['F', ' 65', ' 68', ' 23.02', ' 24.10'], ['F', ' 53', ' 56', ' 20.63', ' 21.91'], ['F', ' 62', ' 65', ' 22.61', ' 23.81'], ['F', ' 55', ' 58', ' 22.03', ' 23.42'], ['M', ' 74', ' 77', ' 20.31', ' 21.34'], ['M', ' 74', ' 78', ' 20.31', ' 21.36'], ['M', ' 64', ' 68', ' 19.59', ' 20.77'], ['M', ' 64', ' 68', ' 21.05', ' 22.31'], ['F', ' 57', ' 61', ' 23.47', ' 25.11'], ['F', ' 64', ' 68', ' 22.84', ' 24.29'], ['F', ' 60', ' 64', ' 19.50', ' 20.90'], ['M', ' 64', ' 68', ' 18.51', ' 19.83'], ['M', ' 66', ' 71', ' 21.40', ' 22.97'], ['F', ' 52', ' 57', ' 17.72', ' 19.42'], ['M', ' 71', ' 77', ' 22.26', ' 23.87'], ['F', ' 55', ' 60', ' 21.64', ' 23.81'], ['M', ' 65', ' 71', ' 22.51', ' 24.45'], ['M', ' 75', ' 82', ' 23.69', ' 25.80'], ['F', ' 42', ' 49', ' 15.08', ' 17.74'], ['M', ' 74', ' 82', ' 22.64', ' 25.33'], ['M', ' 94', ' 105', ' 36.57', ' 40.86']]\n"
     ]
    }
   ],
   "source": [
    "print (records) # Except the first column 'Sex', numeric values need to be converted to number"
   ]
  },
  {
   "cell_type": "code",
   "execution_count": 173,
   "id": "a5e33f80-276f-46a7-bb28-58360a5c3bcd",
   "metadata": {},
   "outputs": [
    {
     "name": "stdout",
     "output_type": "stream",
     "text": [
      "['Sex', 'Weight (Sep)', 'Weight (Apr)', 'BMI (Sep)', 'BMI (Apr)']\n"
     ]
    }
   ],
   "source": [
    "# clean the header and make it ['Sex', 'Weight (Sep)', 'Weight (Apr)', 'BMI (Sep)', 'BMI (Apr)']\n",
    "# headerCleaned = []\n",
    "# for h in header:\n",
    "#     headerCleaned.append(h.strip('\" '))\n",
    "# print(headerCleaned)\n",
    "# header = headerCleaned\n",
    "\n",
    "# Optional. We can shorten the code above using Python's list comprehension\n",
    "header = [h.strip('\" ') for h in header]\n",
    "print(header)"
   ]
  },
  {
   "cell_type": "code",
   "execution_count": 176,
   "id": "286a6974-73df-4c32-bb02-6170e196d77b",
   "metadata": {},
   "outputs": [
    {
     "name": "stdout",
     "output_type": "stream",
     "text": [
      "[['M', 72.0, 59.0, 22.02, 18.14], ['M', 97.0, 86.0, 19.7, 17.44], ['M', 74.0, 69.0, 24.09, 22.43], ['M', 93.0, 88.0, 26.97, 25.57], ['F', 68.0, 64.0, 21.51, 20.1], ['M', 59.0, 55.0, 18.69, 17.4], ['F', 64.0, 60.0, 24.24, 22.88], ['F', 56.0, 53.0, 21.23, 20.23], ['F', 70.0, 68.0, 30.26, 29.24], ['F', 58.0, 56.0, 21.88, 21.02], ['F', 50.0, 47.0, 17.63, 16.89], ['M', 71.0, 69.0, 24.57, 23.85], ['M', 67.0, 66.0, 20.68, 20.15], ['F', 56.0, 55.0, 20.97, 20.36], ['F', 70.0, 68.0, 27.3, 26.73], ['F', 61.0, 60.0, 23.3, 22.88], ['F', 53.0, 52.0, 19.48, 19.24], ['M', 92.0, 92.0, 24.74, 24.69], ['F', 57.0, 58.0, 20.69, 20.79], ['M', 67.0, 67.0, 20.49, 20.6], ['F', 58.0, 58.0, 21.09, 21.24], ['F', 49.0, 50.0, 18.37, 18.53], ['M', 68.0, 68.0, 22.4, 22.61], ['F', 69.0, 69.0, 28.17, 28.43], ['M', 87.0, 88.0, 23.6, 23.81], ['M', 81.0, 82.0, 26.52, 26.78], ['M', 60.0, 61.0, 18.89, 19.27], ['F', 52.0, 53.0, 19.31, 19.75], ['M', 70.0, 71.0, 20.96, 21.32], ['F', 63.0, 64.0, 21.78, 22.22], ['F', 56.0, 57.0, 19.78, 20.23], ['M', 68.0, 69.0, 22.4, 22.82], ['M', 68.0, 69.0, 22.76, 23.19], ['F', 54.0, 56.0, 20.15, 20.69], ['M', 80.0, 82.0, 22.14, 22.57], ['M', 64.0, 66.0, 20.27, 20.76], ['F', 57.0, 59.0, 22.15, 22.93], ['F', 63.0, 65.0, 23.87, 24.67], ['F', 54.0, 56.0, 18.61, 19.34], ['F', 56.0, 58.0, 21.73, 22.58], ['M', 54.0, 56.0, 18.93, 19.72], ['M', 73.0, 75.0, 25.88, 26.72], ['M', 77.0, 79.0, 28.59, 29.53], ['F', 63.0, 66.0, 21.89, 22.79], ['F', 51.0, 54.0, 18.31, 19.28], ['F', 59.0, 62.0, 19.64, 20.63], ['F', 65.0, 68.0, 23.02, 24.1], ['F', 53.0, 56.0, 20.63, 21.91], ['F', 62.0, 65.0, 22.61, 23.81], ['F', 55.0, 58.0, 22.03, 23.42], ['M', 74.0, 77.0, 20.31, 21.34], ['M', 74.0, 78.0, 20.31, 21.36], ['M', 64.0, 68.0, 19.59, 20.77], ['M', 64.0, 68.0, 21.05, 22.31], ['F', 57.0, 61.0, 23.47, 25.11], ['F', 64.0, 68.0, 22.84, 24.29], ['F', 60.0, 64.0, 19.5, 20.9], ['M', 64.0, 68.0, 18.51, 19.83], ['M', 66.0, 71.0, 21.4, 22.97], ['F', 52.0, 57.0, 17.72, 19.42], ['M', 71.0, 77.0, 22.26, 23.87], ['F', 55.0, 60.0, 21.64, 23.81], ['M', 65.0, 71.0, 22.51, 24.45], ['M', 75.0, 82.0, 23.69, 25.8], ['F', 42.0, 49.0, 15.08, 17.74], ['M', 74.0, 82.0, 22.64, 25.33], ['M', 94.0, 105.0, 36.57, 40.86]]\n"
     ]
    }
   ],
   "source": [
    "# clean the records so that columns (except Sex) contain numbers\n",
    "# recordsCleaned = []\n",
    "# for row in records:\n",
    "#     rowCleaned = []\n",
    "#     for colIndex, col in enumerate(row):\n",
    "#         if colIndex == 0:\n",
    "#             rowCleaned.append(col)\n",
    "#         else:\n",
    "#             rowCleaned.append(float(col))\n",
    "#     recordsCleaned.append(rowCleaned)\n",
    "# print (recordsCleaned)\n",
    "# records = recordsCleaned\n",
    "\n",
    "# Optional 1. Shorten the above code a little\n",
    "# recordsCleaned = []\n",
    "# for row in records:\n",
    "#     rowCleaned = [col if colIndex == 0 else float(col) for colIndex, col in enumerate(row)]\n",
    "#     recordsCleaned.append(rowCleaned)\n",
    "# print (recordsCleaned)\n",
    "# records = recordsCleaned\n",
    "\n",
    "\n",
    "# Optional 2. We can even the code above to 1-line using Python's list comprehension\n",
    "records = [[col if colIndex==0 else float(col) for colIndex, col in enumerate(row)] for row in records]\n",
    "print(records)"
   ]
  },
  {
   "cell_type": "markdown",
   "id": "a1fdc601-3fe6-4fb0-81fc-816f7d63d02c",
   "metadata": {
    "tags": []
   },
   "source": [
    "## Getting a column "
   ]
  },
  {
   "cell_type": "markdown",
   "id": "46fd2fe0-1148-49e1-ab91-f60a085caa41",
   "metadata": {},
   "source": [
    "### via column index number "
   ]
  },
  {
   "cell_type": "code",
   "execution_count": 177,
   "id": "cf12ed5b-2331-4fd1-9d04-d4648662234e",
   "metadata": {},
   "outputs": [
    {
     "name": "stdout",
     "output_type": "stream",
     "text": [
      "['M', 'M', 'M', 'M', 'F', 'M', 'F', 'F', 'F', 'F', 'F', 'M', 'M', 'F', 'F', 'F', 'F', 'M', 'F', 'M', 'F', 'F', 'M', 'F', 'M', 'M', 'M', 'F', 'M', 'F', 'F', 'M', 'M', 'F', 'M', 'M', 'F', 'F', 'F', 'F', 'M', 'M', 'M', 'F', 'F', 'F', 'F', 'F', 'F', 'F', 'M', 'M', 'M', 'M', 'F', 'F', 'F', 'M', 'M', 'F', 'M', 'F', 'M', 'M', 'F', 'M', 'M']\n"
     ]
    }
   ],
   "source": [
    "ci = 0\n",
    "firstColumn = [r[ci] for r in records]  # firstColumn := a list of ci-th element of every record \n",
    "print(firstColumn)"
   ]
  },
  {
   "cell_type": "markdown",
   "id": "66fe347a-e7a7-4c46-b194-bb3cee7b0c3b",
   "metadata": {},
   "source": [
    "### via column title"
   ]
  },
  {
   "cell_type": "code",
   "execution_count": 184,
   "id": "2642cb48-bbda-4da9-8f32-14666bcd919f",
   "metadata": {},
   "outputs": [
    {
     "name": "stdout",
     "output_type": "stream",
     "text": [
      "[72.0, 97.0, 74.0, 93.0, 68.0, 59.0, 64.0, 56.0, 70.0, 58.0, 50.0, 71.0, 67.0, 56.0, 70.0, 61.0, 53.0, 92.0, 57.0, 67.0, 58.0, 49.0, 68.0, 69.0, 87.0, 81.0, 60.0, 52.0, 70.0, 63.0, 56.0, 68.0, 68.0, 54.0, 80.0, 64.0, 57.0, 63.0, 54.0, 56.0, 54.0, 73.0, 77.0, 63.0, 51.0, 59.0, 65.0, 53.0, 62.0, 55.0, 74.0, 74.0, 64.0, 64.0, 57.0, 64.0, 60.0, 64.0, 66.0, 52.0, 71.0, 55.0, 65.0, 75.0, 42.0, 74.0, 94.0]\n"
     ]
    }
   ],
   "source": [
    "# columnWeightSep = [r[ci] for r in records]\n",
    "# print(columnWeightSep)\n",
    "\n",
    "# optional. \n",
    "columnWeightSep = [r[header.index(\"Weight (Sep)\")] for r in records]\n",
    "print(columnWeightSep)"
   ]
  },
  {
   "cell_type": "markdown",
   "id": "653429b7-563f-4db5-a38f-d225d9a33d16",
   "metadata": {},
   "source": [
    "## Let's make a dictionary of columns"
   ]
  },
  {
   "cell_type": "code",
   "execution_count": 185,
   "id": "5de93840-43fc-40d5-9e8d-bf6175d1deb5",
   "metadata": {},
   "outputs": [
    {
     "name": "stdout",
     "output_type": "stream",
     "text": [
      "[18.14, 17.44, 22.43, 25.57, 20.1, 17.4, 22.88, 20.23, 29.24, 21.02, 16.89, 23.85, 20.15, 20.36, 26.73, 22.88, 19.24, 24.69, 20.79, 20.6, 21.24, 18.53, 22.61, 28.43, 23.81, 26.78, 19.27, 19.75, 21.32, 22.22, 20.23, 22.82, 23.19, 20.69, 22.57, 20.76, 22.93, 24.67, 19.34, 22.58, 19.72, 26.72, 29.53, 22.79, 19.28, 20.63, 24.1, 21.91, 23.81, 23.42, 21.34, 21.36, 20.77, 22.31, 25.11, 24.29, 20.9, 19.83, 22.97, 19.42, 23.87, 23.81, 24.45, 25.8, 17.74, 25.33, 40.86]\n"
     ]
    }
   ],
   "source": [
    "colDict = {}\n",
    "for ct in header:\n",
    "    ci = header.index(ct)\n",
    "    colDict[ct] = [r[ci] for r in records]\n",
    "print(colDict[\"BMI (Apr)\"])"
   ]
  },
  {
   "cell_type": "markdown",
   "id": "590157ab-b522-4a3a-992d-07706c42425d",
   "metadata": {},
   "source": [
    "## Descriptive Statistics\n",
    "We have done cleaning a CSV file, and formatted to a column dictionary.  \n",
    "Let's run some basic statistical analysis on column 1 and 2. The rest are same as column 2."
   ]
  },
  {
   "cell_type": "markdown",
   "id": "3d2c16fb-9841-4e2e-ab12-ae4b3e08414c",
   "metadata": {
    "tags": []
   },
   "source": [
    "### Column 1. Sex\n",
    "The first column seems to have only two nominal values \"M\" for male and \"F\" for female students. As explained in the lecture, nominal values allow equality check, and frequency counting. Let's answer the following questions.   \n",
    "- How many records in it?  \n",
    "- How many unique (distinct) values exist? \n",
    "- How frequently does each value appear? \n",
    "- Is the dataset imbalanced? (i.e. does one value appear much more frequently than the other?) \n",
    "> We could use \"Chi-Square Goodness of Fit\" test, but let's skip for now."
   ]
  },
  {
   "cell_type": "code",
   "execution_count": 186,
   "id": "807fcc98-96be-41ed-8e4b-87f0a8d4864c",
   "metadata": {},
   "outputs": [
    {
     "name": "stdout",
     "output_type": "stream",
     "text": [
      "How many records in it? 67\n",
      "How many unique (distinct) values exist? 2\n",
      "How frequently does each value appear?\n",
      "\t M appear 32 times\n",
      "\t F appear 35 times\n",
      "Is the dataset imbalanced?\n"
     ]
    }
   ],
   "source": [
    "print (\"How many records in it?\", len(colDict[\"Sex\"]))\n",
    "\n",
    "genderDict = {}\n",
    "for v in colDict[\"Sex\"]:\n",
    "    if v not in genderDict.keys():\n",
    "        genderDict[v] = 0\n",
    "    genderDict[v] = genderDict[v] + 1    \n",
    "print (\"How many unique (distinct) values exist?\", len(genderDict.keys()))\n",
    "print (\"How frequently does each value appear?\")\n",
    "for gender, freq in genderDict.items():\n",
    "    print (\"\\t\", gender, \"appear\", freq, \"times\")\n",
    "print (\"Is the dataset imbalanced?\") "
   ]
  },
  {
   "cell_type": "markdown",
   "id": "857ceb60-ed43-4803-b8e6-29a591244800",
   "metadata": {
    "tags": []
   },
   "source": [
    "### Column 2. Weight (Sep)\n",
    "The second column seems to have ratio values - weights of students. As explained in the lecture, ratio values allow almost any operations. Let's answer the following questions.   \n",
    "- What is the central tendency?  For ratio values, we calculate mean and median. However we cannot run mode unless we round them off (i.e. making them discrete numbers) or putting into bins (i.e. histogram).   \n",
    "- What is the degree of variation? We can calculate standard deviation. \n",
    "- Find min and max.\n",
    "- Is it a normal distribution?  \n",
    "- Is it skewed? What about kurtosis? \n",
    "- Is there any outlier?"
   ]
  },
  {
   "cell_type": "code",
   "execution_count": 187,
   "id": "80ff51d0-dfcb-43cb-9b80-416f4e966953",
   "metadata": {},
   "outputs": [
    {
     "name": "stdout",
     "output_type": "stream",
     "text": [
      "What is the central tendency?\n",
      "\t MEAN: 65.05970149253731 \t MEDIAN: 64.0\n",
      "What is the degree of variation?\n",
      "\t STDEV: 11.200853641528978\n",
      "Find min and max\n",
      "\t MIN: 42.0 \t MAX: 97.0\n",
      "{40: 2, 50: 22, 60: 23, 70: 13, 80: 3, 90: 4}\n",
      "40 **\n",
      "50 **********************\n",
      "60 ***********************\n",
      "70 *************\n",
      "80 ***\n",
      "90 ****\n"
     ]
    }
   ],
   "source": [
    "weights = colDict[\"Weight (Sep)\"]   # Putting the column in a temporary variable for brevity \n",
    "\n",
    "print (\"What is the central tendency?\")\n",
    "mean = sum(weights) / len(weights)\n",
    "median = sorted(weights)[round(len(weights)/2)] # sort the list, and then pick the middle one\n",
    "print (\"\\t MEAN:\",mean, \"\\t MEDIAN:\", median)\n",
    "\n",
    "import math\n",
    "print (\"What is the degree of variation?\")\n",
    "squaredDeviation = sum([(w-mean)**2 for w in weights])\n",
    "variance = squaredDeviation / len(weights)\n",
    "stdev = math.sqrt(variance)\n",
    "print (\"\\t STDEV:\", stdev)\n",
    "\n",
    "print (\"Find min and max\")\n",
    "print (\"\\t MIN:\",min(weights), \"\\t MAX:\",max(weights))\n",
    "\n",
    "# print (\"Is it a normal distribution?\") \n",
    "# print (\"Is it skewed? What about kurtosis?\")\n",
    "\n",
    "# print (\"It there any outlier?\") <- This is a bit tricky without further study on statistics. \n",
    "# Instead we can try a histogram\n",
    "bins = [40,50,60,70,80,90]  \n",
    "histogram = {b:0 for b in bins}   # key: lower bound of the bin, value: frequence\n",
    "for b in bins:\n",
    "    lower_bound = b\n",
    "    upper_bound = b+10\n",
    "    for w in weights:\n",
    "        if w >= lower_bound and w < upper_bound:\n",
    "            histogram[b] = histogram[b] + 1\n",
    "print (histogram)\n",
    "for b,f in histogram.items():\n",
    "    print (b, \"*\"*f)"
   ]
  },
  {
   "cell_type": "code",
   "execution_count": 188,
   "id": "6c330ed0-73e0-453c-b714-175848ed8157",
   "metadata": {},
   "outputs": [
    {
     "data": {
      "image/png": "[encoded data removed]",
      "text/plain": [
       "<Figure size 432x288 with 1 Axes>"
      ]
     },
     "metadata": {},
     "output_type": "display_data"
    }
   ],
   "source": [
    "# Let's draw histogram using seaborn\n",
    "# Don't bother how we drew it yet. We will learn data visualization ssoon.\n",
    "import seaborn as sns\n",
    "ax = sns.histplot(weights)"
   ]
  },
  {
   "cell_type": "code",
   "execution_count": null,
   "id": "55e041ea-8a7f-40c1-a400-16881c47650d",
   "metadata": {},
   "outputs": [],
   "source": []
  }
 ],
 "metadata": {
  "kernelspec": {
   "display_name": "Python 3",
   "language": "python",
   "name": "python3"
  },
  "language_info": {
   "codemirror_mode": {
    "name": "ipython",
    "version": 3
   },
   "file_extension": ".py",
   "mimetype": "text/x-python",
   "name": "python",
   "nbconvert_exporter": "python",
   "pygments_lexer": "ipython3",
   "version": "3.9.5"
  }
 },
 "nbformat": 4,
 "nbformat_minor": 5
}
