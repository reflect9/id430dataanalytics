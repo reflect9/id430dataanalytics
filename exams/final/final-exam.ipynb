{
 "cells": [
  {
   "cell_type": "markdown",
   "id": "9dc68951-8786-4b3c-afe2-329f6f0ec3bd",
   "metadata": {
    "tags": []
   },
   "source": [
    "# ID408B. Final Exam\n",
    "## Part 1+2. Knowledge Check and Coding\n",
    "We merged the two parts into one to give more flexible use of time. \n",
    "- Exam hour: 2021.12.16 7:00 - 8:30\n",
    "- Submit the completed notebook file on KLMS\n",
    "- You can earn max. 100pts (regular quetsions) and 25pts (challenge questions)\n",
    "    \n",
    "#### Instruction \n",
    "- Same as the assignments, carefully read cells containing a placeholder variable (e.g. answer_q1_s1)\n",
    "- In those cells, you must complete certain variables / methods / cell following the instruction. \n",
    "- This is open book / open Internet. You can open any PDF or websites including the lecture notes\n",
    "- DO NOT communicate with others\n",
    "- Zoom must be installed on the computer, and able to share the screen without an issue.  \n",
    "    - Make sure Zoom app is installed on the smartphone. And it must be placed to see your hands and screen. \n",
    "- The Challenge question part is **take-home**. You will have enough time to do it until the end of the weekend (12/19, Sunday) 11:59pm "
   ]
  },
  {
   "cell_type": "markdown",
   "id": "25008c07-95de-4eea-8ae1-cb4323796eb8",
   "metadata": {
    "tags": []
   },
   "source": [
    "-\n",
    "-\n",
    "### Question 1. Determine whether each statement is True or False (35pts)\n",
    "(according the lectures, tutorials, and assignments)   "
   ]
  },
  {
   "cell_type": "code",
   "execution_count": 1,
   "id": "5a74df0d-9926-4f68-94b3-44a99290ac3d",
   "metadata": {},
   "outputs": [],
   "source": [
    "# S1. Based on the cheat sheet by MacKinlay (1986), Lightness and Saturation \n",
    "#        helps users compare which one is higher / lower than the others\n",
    "#        but are not effective at telling exact values\n",
    "#\n",
    "answer_q1_s1 = None  # True if the above statement is correct, otherwise False\n",
    "\n",
    "\n",
    "# S2. Heatmaps are effective at checking if a value is higher / lower than the\n",
    "#        others, since lightness and saturation are effective for ordered values\n",
    "#\n",
    "answer_q1_s2 = None  # True if the above statement is correct, otherwise False\n",
    "\n",
    "\n",
    "# S3. Any A/B testing is a good example of counterfactuals since it allows us\n",
    "#        to imagine multiple futures that cannot happen at the same time \n",
    "#        in realworld\n",
    "#\n",
    "answer_q1_s3 = None  # True if the above statement is correct, otherwise False\n",
    "\n",
    "\n",
    "# S4. Running A/B testing on a small randomly-sampled group of users is \n",
    "#        not advised since they do not represent the entire population.\n",
    "#\n",
    "answer_q1_s4 = None  # True if the above statement is correct, otherwise False\n",
    "\n",
    "\n",
    "# S5. According to the Simpson's paradox, a trend of the entire dataset can be\n",
    "#        misleading.\n",
    "#\n",
    "answer_q1_s5 = None  # True if the above statement is correct, otherwise False\n",
    "\n",
    "\n",
    "# S6. Without a good hypothesis for A/B testing, designers may miss important\n",
    "#        confounding factors and would fail to get generalizable understandings\n",
    "#\n",
    "answer_q1_s6 = None  # True if the above statement is correct, otherwise False\n",
    "\n",
    "\n",
    "# S7. During A/B testing, it is important to set exactly two design variations\n",
    "#        (control and experimental conditions) per hypothesis - in order to \n",
    "#        prevent confounding effects. \n",
    "#\n",
    "answer_q1_s7 = None  # True if the above statement is correct, otherwise False\n",
    "\n",
    "\n",
    "# S8. It is critical to assign an equal # users to every design \n",
    "#        variation - otherwise conditions with a larger # of users will be chosen\n",
    "#        unfairly as they would achieve a larger # of success (e.g. conversions)\n",
    "#\n",
    "answer_q1_s8 = None  # True if the above statement is correct, otherwise False\n",
    "\n",
    "\n",
    "# S9. To minimize various side effects and biases, the duration of an A/B \n",
    "#        testing should be as short as possible (preferrably milliseconds)\n",
    "#\n",
    "answer_q1_s9 = None  # True if the above statement is correct, otherwise False\n",
    "\n",
    "\n",
    "# S10. Even though a well-designed A/B test provides concrete and generalizable \n",
    "#        knowledge of user behavior, such knowledge still needs to be validated \n",
    "#        through follow-up experiments.\n",
    "#\n",
    "answer_q1_s10 = None  # True if the above statement is correct, otherwise False\n",
    "\n",
    "\n",
    "# S11. With well-designed A/B tests, companies do not need to conduct qualitative \n",
    "#        analysis such as observation, survey, and interview studies. \n",
    "#\n",
    "answer_q1_s11 = None  # True if the above statement is correct, otherwise False\n",
    "     \n",
    "\n",
    "# S12. Even if there is an obvious winner among design variations, it is worth\n",
    "#        running A/B testing with more diversified variations - to gain in-depth\n",
    "#        understanding about users\n",
    "#\n",
    "answer_q1_s12 = None  # True if the above statement is correct, otherwise False\n",
    "\n",
    "\n",
    "# S13. Pearson correlation is only for numeric values, while Spearman's correlation \n",
    "#        is applicable for ordinal values.\n",
    "#\n",
    "answer_q1_s13 = None  # True if the above statement is correct, otherwise False\n",
    "\n",
    "\n",
    "# S14. If Cramer's V coefficient is near 1.0, there is a strong association\n",
    "#        between factors  \n",
    "#\n",
    "answer_q1_s14 = None  # True if the above statement is correct, otherwise False\n"
   ]
  },
  {
   "cell_type": "markdown",
   "id": "41df7c47-cb57-4dee-9199-3dd88e3e0705",
   "metadata": {},
   "source": [
    "-\n",
    "-\n",
    "### Question 2. Probability (25pts)"
   ]
  },
  {
   "cell_type": "code",
   "execution_count": 2,
   "id": "21a7613c-89cd-4fef-b79d-4d45a3cafa4e",
   "metadata": {},
   "outputs": [],
   "source": [
    "# You can use vanilla Python, Pandas or Plotly\n",
    "import csv\n",
    "import pandas as pd\n",
    "import plotly.express as px"
   ]
  },
  {
   "cell_type": "markdown",
   "id": "b5f922f7-ecda-4871-8482-24ea0b24a169",
   "metadata": {},
   "source": [
    "---\n",
    "__S1.__ What is the probability of throwing a dice twice and getting 5 for the sum of the eyes? You can round to 6 decimal places (e.g. 0.123456 for 12.3456%) "
   ]
  },
  {
   "cell_type": "code",
   "execution_count": 3,
   "id": "17eceec8-a43e-4495-a0f0-d284a52197bd",
   "metadata": {},
   "outputs": [],
   "source": [
    "answer_q2_s1 = None # Write a number or a valid expression (e.g. 1+2+3/4)"
   ]
  },
  {
   "cell_type": "markdown",
   "id": "e3d195f3-c0a8-41f1-a648-07e3982aa669",
   "metadata": {},
   "source": [
    "---\n",
    "__S2.__ Complete the following method that (1) load the `freshman_kgs.csv` file, and (2) calculates the probability of a randomly-chosen student being male. I.e. `P(male)`\n",
    "\n",
    "__<span style=\"color:red\">(For this and the rest of the exam) DO NOT MANUALLY COUNT FROM THE DATA. Your code should correctly calculate from the dataset, even if we change the dataset</span>__"
   ]
  },
  {
   "cell_type": "code",
   "execution_count": 4,
   "id": "75a9bdc6-d861-4d64-ba35-032fb57e27d0",
   "metadata": {},
   "outputs": [],
   "source": [
    "### COMPLETE THE FOLLOWING METHOD ##\n",
    "def answer_q2_s2():\n",
    "    pass # Remove pass and complete this method to return the answer "
   ]
  },
  {
   "cell_type": "markdown",
   "id": "bfa47100-0094-4adf-a9b3-3c61de1cb473",
   "metadata": {},
   "source": [
    "---\n",
    "__S3.__ Complete the following method that (1) load the `freshman_kgs.csv` file, and (2) calculates the probability of a student maintaining or gaining weights during the period of time (between April and September). I.e. `P(gained weights)`"
   ]
  },
  {
   "cell_type": "code",
   "execution_count": 5,
   "id": "524ea2d0-e7d4-4f98-b8ee-0c5f0463b065",
   "metadata": {},
   "outputs": [],
   "source": [
    "### COMPLETE THE FOLLOWING METHOD ##\n",
    "def answer_q2_s3():\n",
    "    pass # Remove pass and complete this method to return the answer "
   ]
  },
  {
   "cell_type": "markdown",
   "id": "71c0485b-e2c0-46b5-bdeb-8081e009646f",
   "metadata": {},
   "source": [
    "---\n",
    "__S4.__ Load the `freshman_kgs.csv` file. Let's say a randomly-chosen student is a female. What is the probability of her maintaining or gaining weights during the period of time (between April and September)?  I.e. `P(gained weights | female)`"
   ]
  },
  {
   "cell_type": "code",
   "execution_count": 6,
   "id": "0e72f756-dae4-4ad5-add2-90e1c681db51",
   "metadata": {},
   "outputs": [],
   "source": [
    "### COMPLETE THE FOLLOWING METHOD ##\n",
    "def answer_q2_s4():\n",
    "    pass # Remove pass and complete this method to return the answer "
   ]
  },
  {
   "cell_type": "markdown",
   "id": "3f2c5cf3-cd91-4345-96d0-48b3b8d94d77",
   "metadata": {},
   "source": [
    "---\n",
    "__S5.__ Load the `freshman_kgs.csv` file. Let's say a randomly-chosen student maintained or gained weights during the period of time (between April and September). What is the probability of the student being a male? I.e. `P(male | gained weights)`"
   ]
  },
  {
   "cell_type": "code",
   "execution_count": 7,
   "id": "40b4b89e-e33d-43f9-b690-7fe4955af362",
   "metadata": {},
   "outputs": [],
   "source": [
    "### COMPLETE THE FOLLOWING METHOD ##\n",
    "def answer_q2_s5():\n",
    "    pass # Remove pass and complete this method to return the answer "
   ]
  },
  {
   "cell_type": "markdown",
   "id": "32cb9d29-8782-4163-9d71-a673b4be6eaa",
   "metadata": {},
   "source": [
    "-\n",
    "-\n",
    "\n",
    "### Q3. Contingency Table and Bayes Theorem (15pts)\n",
    "Imagine that you are an online marketer of a service, and recently have sent an invitation email to 500 randomly-sampled customers. Based on the log data you figured out the following facts:  \n",
    "- F1. 25% of the sampled customers opened the email \n",
    "- F2. 10% of the sampled customers have visited the service after we sent the email\n",
    "- F3. 50% of the visitors (defined in F2) clicked the email's link\n",
    "\n",
    "__S1. Fill the blank cells (9 total) in the contingency table below__  \n",
    " \n",
    "|             | Open | Not Open | All |\n",
    "|-------------|------|----------|-----|\n",
    "| Visited     |      |          |     |\n",
    "| Not Visited |      |          |     |\n",
    "| All         |      |          | 500 |\n",
    "\n",
    "__S2.__ What is the probability of a customer who already opened the email to visit our website? In other words, what is `P(Visited | Open)`?"
   ]
  },
  {
   "cell_type": "code",
   "execution_count": 8,
   "id": "7e598ed8-5acf-4af5-8d46-c4a183aae860",
   "metadata": {},
   "outputs": [],
   "source": [
    "answer_q3_s2 = None # Replace None with a decimal number (e.g. 0.33) or formula (e.g. 2/32)"
   ]
  },
  {
   "cell_type": "markdown",
   "id": "ac4c1614-193e-4af2-9ac9-3ebfcad82b1f",
   "metadata": {},
   "source": [
    "__S3.__ Let's assume the following facts:  \n",
    "- Each invitation email costs 1 USD  \n",
    "- The average revenue per visit is 20 USD\n",
    "- Among the entire customer population (sufficiently larger than 500), 1% visited the service during the same period of time\n",
    "\n",
    "The executive team is curious of whether the campaign was worth the money. How would you answer? Explain with the ratio of revenue over cost, and how you calculated it.  "
   ]
  },
  {
   "cell_type": "code",
   "execution_count": 9,
   "id": "78a93817-2b6a-4ecc-b689-8c8b00756c38",
   "metadata": {},
   "outputs": [],
   "source": [
    "answer_q3_s3 = \"YOUR ANSWER\" "
   ]
  },
  {
   "attachments": {
    "be1a7b30-49ee-46ee-9627-23ce53500d28.png": {
     "image/png": "[encoded data removed]"
    }
   },
   "cell_type": "markdown",
   "id": "dbc50f32-2179-4dc7-9c8e-cffc0a0042bb",
   "metadata": {},
   "source": [
    "-\n",
    "-\n",
    "### Q4. Journey Map Analysis (25pts)\n",
    "Imagine an online marketing campaign that sent two types of email (A: personalized; B:non-personalized) to 1000 randomly-sampled customers (i.e. 500 sample customers per email). \n",
    "\n",
    "There are three measurements in our log data:\n",
    "- The number of customers who __opened__ our email (P1)\n",
    "- The number of customers who __visited__ our website (P2)\n",
    "- The number of customers who __bought__ our products (P3)\n",
    "![image.png](attachment:be1a7b30-49ee-46ee-9627-23ce53500d28.png)"
   ]
  },
  {
   "cell_type": "markdown",
   "id": "b0df7bd9-b79d-41c4-bbb6-f651e27afdcd",
   "metadata": {},
   "source": [
    "#### Dataset\n",
    "'campaignAB.csv' contains the log data of 1000 customers whom we sent the emails to.  \n",
    "- `UID` Unique ID of customer\n",
    "- `TYPE` Type of the email (either 'a' or 'b') assigned to the customer\n",
    "- `EVENT` State code that the customer reached (either 'P1', 'P2', or 'P3')"
   ]
  },
  {
   "cell_type": "markdown",
   "id": "4ed68905-6fcf-4911-a970-0c72657e31ea",
   "metadata": {},
   "source": [
    "#### Funnel Diagram\n",
    "Let's draw a funnel diagram of # customers over phases. Please note that there's neither backward path (e.g. getting back from P2 to P1) nor duplicates (e.g. a customer never visits the same state multiple times) in the log data. "
   ]
  },
  {
   "cell_type": "code",
   "execution_count": 10,
   "id": "7f1ad520-295c-4f66-9d71-a9cb6da5c081",
   "metadata": {},
   "outputs": [],
   "source": [
    "### QUESTIONS IN THIS CELL ###\n",
    "\n",
    "''' In this method, you need to do the following tasks:\n",
    "        - Load the dataset from \"campaignAB.csv\"\n",
    "        - Count how many users reached P1, P2, and P3\n",
    "        - No need to separate email A and B for now\n",
    "'''\n",
    "def answer_q4_s1():\n",
    "    pass   # Remove pass and implement this method"
   ]
  },
  {
   "cell_type": "markdown",
   "id": "77c5b010-ca52-4e77-ab88-43c843a4ed35",
   "metadata": {},
   "source": [
    "#### Compare Type A and B emails \n",
    "Let's compare how the two types of emails affected customer's behavior. Please answer the following questions. "
   ]
  },
  {
   "cell_type": "code",
   "execution_count": 11,
   "id": "377ac136-a98d-41ce-a78c-12fcc995dfe6",
   "metadata": {},
   "outputs": [],
   "source": [
    "''' What is the probability of customers (who received type A email) to open their emails? \n",
    "    I.e. P(P1 | receiving email A)\n",
    "'''\n",
    "answer_q4_s2 = None # Replace None with a decimal number (e.g. 0.33) or formula (e.g. 2/32)"
   ]
  },
  {
   "cell_type": "code",
   "execution_count": 12,
   "id": "a1dff116-cba1-4681-8269-dc21c2555558",
   "metadata": {},
   "outputs": [],
   "source": [
    "''' What is the probability of customers (who received type B email) to open their emails? \n",
    "    I.e. P(P1 | receiving email B)\n",
    "'''\n",
    "answer_q4_s3 = None # Replace None with a decimal number (e.g. 0.33) or formula (e.g. 2/32)"
   ]
  },
  {
   "cell_type": "code",
   "execution_count": 13,
   "id": "3173d767-cf19-4314-a784-4c543fd146af",
   "metadata": {},
   "outputs": [],
   "source": [
    "''' What is the probability of customers (who opened type A email) to visit the website?\n",
    "    I.e. P(P2 | (receiving email A, P1))\n",
    "'''\n",
    "answer_q4_s4 = None # Replace None with a decimal number (e.g. 0.33) or formula (e.g. 2/32)"
   ]
  },
  {
   "cell_type": "code",
   "execution_count": 14,
   "id": "5079b147-1387-4c1e-9e19-db62ce0dc01c",
   "metadata": {},
   "outputs": [],
   "source": [
    "''' What is the probability of customers (who opened type B email) to visit the website?\n",
    "    I.e. P(P2 | (receiving email B, P1))\n",
    "'''\n",
    "answer_q4_s5 = None # Replace None with a decimal number (e.g. 0.33) or formula (e.g. 2/32)"
   ]
  },
  {
   "cell_type": "code",
   "execution_count": 15,
   "id": "d58ed781-34c9-480b-8543-7fd8674bd124",
   "metadata": {},
   "outputs": [],
   "source": [
    "''' What is the probability of customers (who opened type A email and visited the website) \n",
    "    to buy our products?\n",
    "    I.e. P(P3 | (receiving email A, P1, P2))\n",
    "'''\n",
    "answer_q4_s6 = None # Replace None with a decimal number (e.g. 0.33) or formula (e.g. 2/32)"
   ]
  },
  {
   "cell_type": "code",
   "execution_count": 16,
   "id": "d2aeae18-de9b-4399-98e3-b3b1fecc4a5b",
   "metadata": {},
   "outputs": [],
   "source": [
    "''' What is the probability of customers (who opened type B email and visited the website)\n",
    "    to buy our products?\n",
    "    I.e. P(P3 | (receiving email B, P1, P2))\n",
    "'''\n",
    "answer_q4_s7 = None # Replace None with a decimal number (e.g. 0.33) or formula (e.g. 2/32)"
   ]
  },
  {
   "cell_type": "code",
   "execution_count": 17,
   "id": "07287bb5-fab9-4b8f-baf4-dd0acb9e0a0a",
   "metadata": {},
   "outputs": [],
   "source": [
    "''' Briefly discuss the impact of email personalization on customer's behavior \n",
    "    through the journey. Would you recommend the personalization? (around 200 characters)\n",
    "'''\n",
    "answer_q4_s8 = '''YOUR ANSWER HERE\n",
    "'''"
   ]
  },
  {
   "cell_type": "markdown",
   "id": "da1f078f-6f0d-4b6c-b823-2fa4d8e6e246",
   "metadata": {},
   "source": [
    "-\n",
    "-\n",
    "## Challenge Questions (extra 25pts)\n",
    "The last part aims to evaluate students' ability to integrate all the concepts and techniques they learned throughout the course. Create a separate report using your favorite tool (e.g. Google doc, Powerpoint, MS Word, etc), and do the following tasks.\n",
    "\n",
    "__NOTE.__ Don't get overwhelmed. We expect the report to be around 2 pages. That means most answers should be within couple sentences.\n",
    "\n",
    "\n",
    "- __Pick a target product / service__\n",
    "    - You may select an existing or imaginative product / service  \n",
    "    - Choose it carefully so that you can apply the following tasks  \n",
    "- __Create a DIKW model of the chosen product__\n",
    "    - Define the four layers, and explain the transition between layers in text\n",
    "    - You may focus on a specific part of the product / service\n",
    "- __Plan Exploratory Data Analysis__\n",
    "    - EDA plan should be aligned with your DIKW model\n",
    "    - You do not actually run EDA, but define your EDA process in detail. For example,\n",
    "        - What is the dataset? How was it collected?\n",
    "        - What is the goal of your EDA?  \n",
    "        - What are expected outcomes of your EDA process? \n",
    "- __Plan Journey Map Analysis__\n",
    "    - Draw a high-level customer/user journey map of your product\n",
    "    - Define 3-5 points for measuring user behavior and assessing success of your product \n",
    "- __Plan A/B Testing on your journey map__\n",
    "    - What are your hypothesis, design variations, and measurements? \n",
    "\n",
    "\n",
    "- Deadline: End of the weekend (12/19, Sunday) 11:59pm \n",
    "- Submit your PDF document on KLMS"
   ]
  },
  {
   "cell_type": "markdown",
   "id": "d6a9ab04-dc41-476a-a7ae-8e06110bae7e",
   "metadata": {},
   "source": [
    "-\n",
    "-\n",
    "# Check whether your notebook runs without any issue, and submit on KLMS"
   ]
  }
 ],
 "metadata": {
  "kernelspec": {
   "display_name": "Python 3",
   "language": "python",
   "name": "python3"
  },
  "language_info": {
   "codemirror_mode": {
    "name": "ipython",
    "version": 3
   },
   "file_extension": ".py",
   "mimetype": "text/x-python",
   "name": "python",
   "nbconvert_exporter": "python",
   "pygments_lexer": "ipython3",
   "version": "3.9.5"
  }
 },
 "nbformat": 4,
 "nbformat_minor": 5
}
