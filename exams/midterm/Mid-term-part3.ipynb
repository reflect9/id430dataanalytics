{
 "cells": [
  {
   "cell_type": "markdown",
   "id": "fbdb713e-7045-4779-9ffc-b3aebf5b08e5",
   "metadata": {},
   "source": [
    "# ID408B. Mid-term Exam\n",
    "## Part 3. Challenge Question\n",
    "- Exam Hour: 2021.10.21  8:00pm - 8:30pm\n",
    "- Submit the completed file on KLMS (https://klms.kaist.ac.kr/mod/assign/view.php?id=614717)\n",
    "- You can get max. 50pts, which will be merged as-is with the other parts.\n",
    "\n",
    "### Instruction \n",
    "- This is open book / open Internet. You can open any PDF or websites including the lecture notes\n",
    "- Never communicate with other students \n",
    "---"
   ]
  },
  {
   "cell_type": "markdown",
   "id": "1d58f3b7-0a33-4405-9ef2-cc902bc3e3e7",
   "metadata": {},
   "source": [
    "# Dataset. Freshman kgs\n",
    "The dataset (`freshman_kgs.csv`) contains `weight` and `BMI` information of Male and Female students measured on April and September. Use all the knowledge and skills that you learned so far, perform EDA process and report as many \n",
    "findings as possible. \n",
    "\n",
    "** No need to use external graphic tools (e.g. Powerpoint or Figma) **\n",
    "\n",
    "\n",
    "**Grading Criteria**  \n",
    "- Does the report contain a good amount of findings (ranging from univariate to multivariate)?   \n",
    "- Does the report follow the standard reporting flow?  \n",
    "- Does each chart effectively support the findings that it is accompanied by?  \n",
    "- Does each finding follow the guidelines of formal reporting?  \n",
    "\n",
    "Below we provide a typical procedure of EDA. However, you don't have to follow the steps. "
   ]
  },
  {
   "cell_type": "markdown",
   "id": "c3283d80-1f32-4d97-9040-1b2a60e3c6f3",
   "metadata": {},
   "source": [
    "---\n"
   ]
  },
  {
   "cell_type": "markdown",
   "id": "12959219-d59e-4ffb-ab31-bc05a76c3b4f",
   "metadata": {},
   "source": [
    "## Load dataset; Clean up noise; Convert data types"
   ]
  },
  {
   "cell_type": "code",
   "execution_count": null,
   "id": "bf4d814a-2771-4da1-a639-b88ff1459292",
   "metadata": {},
   "outputs": [],
   "source": []
  },
  {
   "cell_type": "markdown",
   "id": "9a4042e0-50aa-4d46-8e9b-5536e11c0753",
   "metadata": {},
   "source": [
    "## Univariate Analysis (Frequency Counting, Descriptive Statistics)"
   ]
  },
  {
   "cell_type": "code",
   "execution_count": null,
   "id": "27620b55-57fb-4f5d-9439-a6708ec577c6",
   "metadata": {},
   "outputs": [],
   "source": []
  },
  {
   "cell_type": "markdown",
   "id": "0c2738c6-535b-4fc6-95a7-9e657c8df146",
   "metadata": {},
   "source": [
    "## Bivariate and higher-dimension analysis "
   ]
  },
  {
   "cell_type": "code",
   "execution_count": null,
   "id": "73264379-564b-4b84-8b79-fdca40d6f861",
   "metadata": {},
   "outputs": [],
   "source": []
  },
  {
   "cell_type": "markdown",
   "id": "0f9a49c1-ff7e-4db1-8706-e60cae4c9bf1",
   "metadata": {},
   "source": [
    "## Report your findings"
   ]
  },
  {
   "cell_type": "code",
   "execution_count": null,
   "id": "15089dd2-1880-4abc-b9f8-ae298b47a9c9",
   "metadata": {},
   "outputs": [],
   "source": []
  }
 ],
 "metadata": {
  "kernelspec": {
   "display_name": "Python 3",
   "language": "python",
   "name": "python3"
  },
  "language_info": {
   "codemirror_mode": {
    "name": "ipython",
    "version": 3
   },
   "file_extension": ".py",
   "mimetype": "text/x-python",
   "name": "python",
   "nbconvert_exporter": "python",
   "pygments_lexer": "ipython3",
   "version": "3.9.5"
  }
 },
 "nbformat": 4,
 "nbformat_minor": 5
}
